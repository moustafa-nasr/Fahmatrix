{
  "cells": [
    {
      "cell_type": "markdown",
      "metadata": {
        "id": "O9andxwETJLt"
      },
      "source": [
        "Step 1: Install JDK 17\n",
        "======================="
      ]
    },
    {
      "cell_type": "code",
      "execution_count": null,
      "metadata": {
        "colab": {
          "base_uri": "https://localhost:8080/"
        },
        "id": "HcBWCCgTFPEt",
        "outputId": "07753e4c-2f7f-4ad7-f44e-333d2e188d69"
      },
      "outputs": [],
      "source": [
        "!apt-get install -y openjdk-17-jdk -qq > /dev/null\n",
        "import os\n",
        "os.environ[\"JAVA_HOME\"] = \"/usr/lib/jvm/java-17-openjdk-amd64\"\n",
        "!java -version"
      ]
    },
    {
      "cell_type": "markdown",
      "metadata": {
        "id": "7eAxyn4PTWQR"
      },
      "source": [
        "Step 2: Downlad Fahmatrix\n",
        "======================="
      ]
    },
    {
      "cell_type": "code",
      "execution_count": null,
      "metadata": {
        "colab": {
          "base_uri": "https://localhost:8080/"
        },
        "id": "IIr34nZ7HbWL",
        "outputId": "e18a92c2-3f58-4131-ecb5-0d3f67be92ab"
      },
      "outputs": [],
      "source": [
        "!wget -nc https://github.com/moustafa-nasr/Fahmatrix/releases/download/v0.1.5/fahmatrix-0.1.5.jar\n"
      ]
    },
    {
      "cell_type": "markdown",
      "metadata": {
        "id": "R7j2zCWiTYA7"
      },
      "source": [
        "Step 3: Write Basic Example Code\n",
        "======================="
      ]
    },
    {
      "cell_type": "code",
      "execution_count": null,
      "metadata": {
        "colab": {
          "base_uri": "https://localhost:8080/"
        },
        "id": "Ya6MHfR1HktQ",
        "outputId": "bbb99e88-8d06-495e-fef3-cc2897563e92"
      },
      "outputs": [],
      "source": [
        "%%writefile FahmatrixExample.java\n",
        "\n",
        "import com.fahmatrix.DataFrame;\n",
        "import com.fahmatrix.Series;\n",
        "import java.util.Arrays;\n",
        "\n",
        "\n",
        "public class FahmatrixExample {\n",
        "\n",
        "  public static void main(String[] args) {\n",
        "    System.out.println(\"Fahmatrix Basic Example\");\n",
        "    System.out.println(\"=======================\");\n",
        "    System.out.println();\n",
        "\n",
        "    DataFrame df = new DataFrame();\n",
        "\t\tdf.addColumn(\"age\", Arrays.asList(25, 30, 35));\n",
        "\t\tdf.addColumn(\"name\", Arrays.asList(\"Alice\", \"Bob\", \"Charlie\"));\n",
        "    df.print();\n",
        "  }\n",
        "}\n"
      ]
    },
    {
      "cell_type": "markdown",
      "metadata": {
        "id": "CTZHFj_eTc-2"
      },
      "source": [
        "Step 4: run the code\n",
        "=======================\n",
        "The output must be:\n",
        "\n",
        "\n",
        "Index\t| age\t| name\n",
        "--------+-------+-------\n",
        "0\t| 25\t| Alice\n",
        "1\t| 30\t| Bob\n",
        "2\t| 35\t| Charlie"
      ]
    },
    {
      "cell_type": "code",
      "execution_count": null,
      "metadata": {
        "colab": {
          "base_uri": "https://localhost:8080/"
        },
        "id": "e6mitrdyHfp_",
        "outputId": "35db2203-0dc8-418a-ead4-53deef33f741"
      },
      "outputs": [
        {
          "name": "stdout",
          "output_type": "stream",
          "text": [
            "Fahmatrix Basic Example\n",
            "=======================\n",
            "\n",
            "Index\t| age\t| name\t\n",
            "--------+-------+-------\n",
            "0\t| 25\t| Alice\t\n",
            "1\t| 30\t| Bob\t\n",
            "2\t| 35\t| Charlie\t\n",
            "\n"
          ]
        }
      ],
      "source": [
        "%%script bash\n",
        "javac -cp fahmatrix-0.1.5.jar FahmatrixExample.java\n",
        "java -cp .:fahmatrix-0.1.5.jar FahmatrixExample"
      ]
    }
  ],
  "metadata": {
    "colab": {
      "provenance": []
    },
    "kernelspec": {
      "display_name": "Python 3",
      "name": "python3"
    },
    "language_info": {
      "name": "python"
    }
  },
  "nbformat": 4,
  "nbformat_minor": 0
}
